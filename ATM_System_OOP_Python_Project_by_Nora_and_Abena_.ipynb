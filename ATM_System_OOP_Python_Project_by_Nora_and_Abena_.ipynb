{
  "nbformat": 4,
  "nbformat_minor": 0,
  "metadata": {
    "colab": {
      "provenance": [],
      "include_colab_link": true
    },
    "kernelspec": {
      "name": "python3",
      "display_name": "Python 3"
    },
    "language_info": {
      "name": "python"
    }
  },
  "cells": [
    {
      "cell_type": "markdown",
      "metadata": {
        "id": "view-in-github",
        "colab_type": "text"
      },
      "source": [
        "<a href=\"https://colab.research.google.com/github/Nora-Anyidoho/Projects/blob/main/ATM_System_OOP_Python_Project_by_Nora_and_Abena_.ipynb\" target=\"_parent\"><img src=\"https://colab.research.google.com/assets/colab-badge.svg\" alt=\"Open In Colab\"/></a>"
      ]
    },
    {
      "cell_type": "markdown",
      "source": [
        "# Project by**: Nora Anyidoho** and **Abena Agyemang Gyasi**\n",
        "\n"
      ],
      "metadata": {
        "id": "UXL9spiK-gH-"
      }
    },
    {
      "cell_type": "markdown",
      "source": [
        "### **ATM System**\n",
        "\n",
        "### **Goal**\n",
        "\n",
        "The goal of this project is to build a simple automated teller machine (ATM) program using object-oriented programming in Python. The program will allow users to authenticate with an account number and PIN, check their balance, withdraw cash, and deposit funds.\n",
        ".\n",
        "\n",
        "Account: Represents a customer's bank account, including information like account number, balance, and PIN.\n",
        "ATM: The machine interface that interacts with the user, authenticates them, and performs banking transactions.\n",
        "Transaction: Records the details of each operation (withdrawal, deposit, balance inquiry) performed by the account holder."
      ],
      "metadata": {
        "id": "p9cOpjKp-ykE"
      }
    },
    {
      "cell_type": "markdown",
      "source": [
        "### **Features:**\n",
        "\n",
        "- Account authentication\n",
        "- Balance inquiry\n",
        "- Cash withdrawal\n",
        "- Cash depositing"
      ],
      "metadata": {
        "id": "YJhy4jpBKCr8"
      }
    },
    {
      "cell_type": "markdown",
      "source": [
        "### **Classes:**\n",
        "\n",
        "- Account: Represents a customer's bank account, including information like account number, balance, and PIN.\n",
        "- ATM: The machine interface that interacts with the user, authenticates them, and performs banking transactions.\n",
        "\n",
        "Transaction: Records the details of each operation (withdrawal, deposit, balance inquiry) performed by the account holder."
      ],
      "metadata": {
        "id": "2F3DTX3AKGpu"
      }
    },
    {
      "cell_type": "code",
      "source": [
        "# Define the Account class representing a bank account\n",
        "class Account:\n",
        "    # Set up an account with an account number, balance, and PIN\n",
        "    def __init__(self, account_number, balance, pin):\n",
        "        self.account_number = account_number  # Unique identifier for the account\n",
        "        self._balance = balance              # Balance amount in the account\n",
        "        self._pin = pin                      # Personal Identification Number\n",
        "\n",
        "    # Checking validity of PIN\n",
        "    def check_pin(self, pin):\n",
        "        return self._pin == pin\n",
        "\n",
        "    # Checking account balance\n",
        "    def get_balance(self):\n",
        "        return self._balance\n",
        "\n",
        "    # How to deposit money into account\n",
        "    def deposit(self, amount):\n",
        "        if amount > 0:\n",
        "            self._balance += amount\n",
        "            return True\n",
        "        else:\n",
        "            return False\n",
        "\n",
        "    # How to withdraw money from account\n",
        "    def withdraw(self, amount):\n",
        "        if amount > 0 and amount <= self._balance:\n",
        "            self._balance -= amount\n",
        "            return True\n",
        "        else:\n",
        "            return False\n",
        "\n",
        "# Define the ATM class representing the ATM machine\n",
        "class ATM:\n",
        "    # Set up the ATM with a dictionary of accounts\n",
        "    def __init__(self, accounts):\n",
        "        self.accounts = accounts  # Dictionary of accounts accessible by the ATM\n",
        "\n",
        "    # Authenticating the account holder\n",
        "    def authenticate_user(self, account_number, pin):\n",
        "        if account_number in self.accounts and self.accounts[account_number].check_pin(pin):\n",
        "            return True\n",
        "        else:\n",
        "            return False\n",
        "\n",
        "    # Handling balance inquiry\n",
        "    def balance_inquiry(self, account_number):\n",
        "        if account_number in self.accounts:\n",
        "            return self.accounts[account_number].get_balance()\n",
        "        else:\n",
        "            return None\n",
        "\n",
        "    # Handling cash withdrawal\n",
        "    def withdraw_cash(self, account_number, amount):\n",
        "        if account_number in self.accounts:\n",
        "            return self.accounts[account_number].withdraw(amount)\n",
        "        else:\n",
        "            return False\n",
        "\n",
        "    # Handle depositing cash\n",
        "    def deposit_cash(self, account_number, amount):\n",
        "        if account_number in self.accounts:\n",
        "            return self.accounts[account_number].deposit(amount)\n",
        "        else:\n",
        "            return False"
      ],
      "metadata": {
        "id": "AJfwlp5TGDTx"
      },
      "execution_count": null,
      "outputs": []
    },
    {
      "cell_type": "code",
      "source": [
        "# Create a dictionary with two accounts\n",
        "accounts = {\n",
        "    '01770180': Account('01770180', 5000, '7701'),\n",
        "    '02773771': Account('02773771', 8000, '7737')\n",
        "}\n",
        "\n",
        "# Set up the ATM with the accounts\n",
        "atm = ATM(accounts)\n",
        "\n",
        "# Simulate user interaction with the ATM\n",
        "account_number = input(\"Enter your account number: \")\n",
        "pin = input(\"Enter your PIN: \")\n",
        "\n",
        "# Authenticate user\n",
        "if atm.authenticate_user(account_number, pin):\n",
        "    print(\"Authenticated successfully.\")\n",
        "\n",
        "    # Display account balance\n",
        "    balance = atm.balance_inquiry(account_number)\n",
        "    print(f\"Your current balance is: ${balance}\")\n",
        "\n",
        "    # Simulate cash withdrawal\n",
        "    withdrawal_amount = float(input(\"Enter the amount to withdraw: \"))\n",
        "    if atm.withdraw_cash(account_number, withdrawal_amount):\n",
        "        print(f\"Withdrawal successful. You withdrew ${withdrawal_amount}.\")\n",
        "        print(f\"Your updated balance is: ${atm.balance_inquiry(account_number)}\")\n",
        "    else:\n",
        "        print(\"Withdrawal failed. Insufficient funds or invalid amount.\")\n",
        "\n",
        "    # Simulate cash deposit\n",
        "    deposit_amount = float(input(\"Enter the amount to deposit: \"))\n",
        "    if atm.deposit_cash(account_number, deposit_amount):\n",
        "        print(f\"Deposit successful. You deposited ${deposit_amount}.\")\n",
        "        print(f\"Your updated balance is: ${atm.balance_inquiry(account_number)}\")\n",
        "    else:\n",
        "        print(\"Deposit failed. Invalid amount.\")\n",
        "else:\n",
        "    print(\"Authentication failed. Incorrect account number or PIN.\")"
      ],
      "metadata": {
        "colab": {
          "base_uri": "https://localhost:8080/"
        },
        "id": "CNIIn1C5Onpu",
        "outputId": "4d41c3a5-aac8-4282-fe52-60ec0703af10"
      },
      "execution_count": null,
      "outputs": [
        {
          "output_type": "stream",
          "name": "stdout",
          "text": [
            "Enter your account number: 02773771\n",
            "Enter your PIN: 7701\n",
            "Authentication failed. Incorrect account number or PIN.\n"
          ]
        }
      ]
    },
    {
      "cell_type": "markdown",
      "source": [
        "**User keyed in wrong PIN hence user needs to start the transaction again.**"
      ],
      "metadata": {
        "id": "nsOYmVObQVKo"
      }
    },
    {
      "cell_type": "code",
      "source": [
        "# Create a dictionary with two accounts\n",
        "accounts = {\n",
        "    '01770180': Account('01770180', 5000, '7701'),\n",
        "    '02773771': Account('02773771', 8000, '7737')\n",
        "}\n",
        "\n",
        "# Set up the ATM with the accounts\n",
        "atm = ATM(accounts)\n",
        "\n",
        "# Simulate user interaction with the ATM\n",
        "account_number = input(\"Enter your account number: \")\n",
        "pin = input(\"Enter your PIN: \")\n",
        "\n",
        "# Authenticate user\n",
        "if atm.authenticate_user(account_number, pin):\n",
        "    print(\"Authenticated successfully.\")\n",
        "\n",
        "    # Display account balance\n",
        "    balance = atm.balance_inquiry(account_number)\n",
        "    print(f\"Your current balance is: ${balance}\")\n",
        "\n",
        "    # Simulate cash withdrawal\n",
        "    withdrawal_amount = float(input(\"Enter the amount to withdraw: \"))\n",
        "    if atm.withdraw_cash(account_number, withdrawal_amount):\n",
        "        print(f\"Withdrawal successful. You withdrew ${withdrawal_amount}.\")\n",
        "        print(f\"Your updated balance is: ${atm.balance_inquiry(account_number)}\")\n",
        "    else:\n",
        "        print(\"Withdrawal failed. Insufficient funds or invalid amount.\")\n",
        "\n",
        "    # Simulate cash deposit\n",
        "    deposit_amount = float(input(\"Enter the amount to deposit: \"))\n",
        "    if atm.deposit_cash(account_number, deposit_amount):\n",
        "        print(f\"Deposit successful. You deposited ${deposit_amount}.\")\n",
        "        print(f\"Your updated balance is: ${atm.balance_inquiry(account_number)}\")\n",
        "    else:\n",
        "        print(\"Deposit failed. Invalid amount.\")\n",
        "else:\n",
        "    print(\"Authentication failed. Incorrect account number or PIN.\")"
      ],
      "metadata": {
        "colab": {
          "base_uri": "https://localhost:8080/"
        },
        "id": "VtLt4lcFKyDy",
        "outputId": "362ce085-9592-4a55-df81-8482d7b9e9ee"
      },
      "execution_count": null,
      "outputs": [
        {
          "output_type": "stream",
          "name": "stdout",
          "text": [
            "Enter your account number: 02773771\n",
            "Enter your PIN: 7737\n",
            "Authenticated successfully.\n",
            "Your current balance is: $8000\n",
            "Enter the amount to withdraw: 2000\n",
            "Withdrawal successful. You withdrew $2000.0.\n",
            "Your updated balance is: $6000.0\n",
            "Enter the amount to deposit: 4000\n",
            "Deposit successful. You deposited $4000.0.\n",
            "Your updated balance is: $10000.0\n"
          ]
        }
      ]
    },
    {
      "cell_type": "markdown",
      "source": [
        "**We see user finally got the details right therefore transaction was successful**"
      ],
      "metadata": {
        "id": "IcK99TV1Qslh"
      }
    }
  ]
}